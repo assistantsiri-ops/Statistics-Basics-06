{
  "cells": [
    {
      "cell_type": "markdown",
      "metadata": {
        "id": "rVIOtmCOzxo0"
      },
      "source": [
        "#Statistics Basics(Theory)"
      ]
    },
    {
      "cell_type": "markdown",
      "metadata": {
        "id": "JQyWI4AHz286"
      },
      "source": [
        "1.What is statistics, and why is it important?\n",
        "    - Statistics is a branch of mathematics that deals with the collection, analysis, interpretation, and presentation of data. It's important because it helps us make informed decisions, understand patterns and trends, and draw conclusions from data."
      ]
    },
    {
      "cell_type": "code",
      "execution_count": null,
      "metadata": {
        "colab": {
          "base_uri": "https://localhost:8080/",
          "height": 72
        },
        "id": "V4zHR80KzuLh",
        "outputId": "3540d30e-3e0e-4d23-8d5c-d20cd4003e54"
      },
      "outputs": [
        {
          "data": {
            "application/vnd.google.colaboratory.intrinsic+json": {
              "type": "string"
            },
            "text/plain": [
              "\"\\nStatistics is a branch of mathematics that deals with the collection, analysis, interpretation, and presentation of data. It's important because it helps us make informed decisions, understand patterns and trends, and draw conclusions from data. \\n\""
            ]
          },
          "execution_count": 1,
          "metadata": {},
          "output_type": "execute_result"
        }
      ],
      "source": [
        "#What is statistics, and why is it important?\n",
        "'''\n",
        "Statistics is a branch of mathematics that deals with the collection, analysis, interpretation, and presentation of data. It's important because it helps us make informed decisions, understand patterns and trends, and draw conclusions from data.\n",
        "'''"
      ]
    },
    {
      "cell_type": "markdown",
      "metadata": {
        "id": "MPfj1D4Q0KYB"
      },
      "source": [
        "2.What are the two main types of statistics?\n",
        "    - 1. Descriptive Statistics. 2. Inferential Statistics."
      ]
    },
    {
      "cell_type": "code",
      "execution_count": null,
      "metadata": {
        "colab": {
          "base_uri": "https://localhost:8080/",
          "height": 36
        },
        "id": "nskIfFPD0JhQ",
        "outputId": "5bd45f8f-207b-4633-8d6a-edddde3a89ff"
      },
      "outputs": [
        {
          "data": {
            "application/vnd.google.colaboratory.intrinsic+json": {
              "type": "string"
            },
            "text/plain": [
              "'\\n1. Descriptive Statistics. 2. Inferential Statistics\\n'"
            ]
          },
          "execution_count": 2,
          "metadata": {},
          "output_type": "execute_result"
        }
      ],
      "source": [
        "#What are the two main types of statistics?\n",
        "'''\n",
        "1. Descriptive Statistics. 2. Inferential Statistics\n",
        "'''"
      ]
    },
    {
      "cell_type": "markdown",
      "metadata": {
        "id": "1qH8HMnW0bA5"
      },
      "source": [
        "3.What are descriptive statistics?\n",
        "     - Descriptive statistics can be used to describe a single variable (univariate analysis) or more than one variable (bivariate/multivariate analysis)."
      ]
    },
    {
      "cell_type": "code",
      "execution_count": null,
      "metadata": {
        "colab": {
          "base_uri": "https://localhost:8080/",
          "height": 54
        },
        "id": "eZRsrM530aZm",
        "outputId": "397356b6-c606-474c-f305-1af10cac2a4a"
      },
      "outputs": [
        {
          "data": {
            "application/vnd.google.colaboratory.intrinsic+json": {
              "type": "string"
            },
            "text/plain": [
              "'\\nDescriptive statistics can be used to describe a single variable (univariate analysis) or more than one variable (bivariate/multivariate analysis).\\n'"
            ]
          },
          "execution_count": 4,
          "metadata": {},
          "output_type": "execute_result"
        }
      ],
      "source": [
        "#What are descriptive statistics?\n",
        "'''\n",
        "Descriptive statistics can be used to describe a single variable (univariate analysis) or more than one variable (bivariate/multivariate analysis).\n",
        "'''"
      ]
    },
    {
      "cell_type": "markdown",
      "metadata": {
        "id": "R0qmBao01AuA"
      },
      "source": [
        "4.What is inferential statistics?\n",
        "  - Inferential statistics are techniques that allow us to use these samples to make generalizations about the populations from which the samples were drawn."
      ]
    },
    {
      "cell_type": "code",
      "execution_count": null,
      "metadata": {
        "colab": {
          "base_uri": "https://localhost:8080/",
          "height": 54
        },
        "id": "lASrVH2D1AQB",
        "outputId": "33f5dfbf-7ce1-405d-b064-7a9b36e6bf33"
      },
      "outputs": [
        {
          "data": {
            "application/vnd.google.colaboratory.intrinsic+json": {
              "type": "string"
            },
            "text/plain": [
              "'\\nInferential statistics are techniques that allow us to use these samples to make generalizations about the populations from which the samples were drawn.\\n'"
            ]
          },
          "execution_count": 5,
          "metadata": {},
          "output_type": "execute_result"
        }
      ],
      "source": [
        "#What is inferential statistics?\n",
        "'''\n",
        "Inferential statistics are techniques that allow us to use these samples to make generalizations about the populations from which the samples were drawn.\n",
        "'''"
      ]
    },
    {
      "cell_type": "markdown",
      "metadata": {
        "id": "9b7OLpiu1Zbm"
      },
      "source": [
        "5.What is sampling in statistics?\n",
        "     - In statistics, sampling means selecting a subset (a sample) from a larger population to gain insights about the characteristics of the whole population."
      ]
    },
    {
      "cell_type": "code",
      "execution_count": null,
      "metadata": {
        "colab": {
          "base_uri": "https://localhost:8080/",
          "height": 54
        },
        "id": "_PR83LNv1Ris",
        "outputId": "fc3dd75b-f120-4ddf-d33e-7199f0c3adb0"
      },
      "outputs": [
        {
          "data": {
            "application/vnd.google.colaboratory.intrinsic+json": {
              "type": "string"
            },
            "text/plain": [
              "'\\nIn statistics, sampling means selecting a subset (a sample) from a larger population to gain insights about the characteristics of the whole population. \\n'"
            ]
          },
          "execution_count": 6,
          "metadata": {},
          "output_type": "execute_result"
        }
      ],
      "source": [
        "#what is sampling in statistics?\n",
        "'''\n",
        "In statistics, sampling means selecting a subset (a sample) from a larger population to gain insights about the characteristics of the whole population.\n",
        "'''"
      ]
    },
    {
      "cell_type": "markdown",
      "metadata": {
        "id": "ugmmbdgH1jm1"
      },
      "source": [
        "6.What are the different types of sampling methods?\n",
        "   - In statistics, sampling methods are broadly categorized into probability sampling and non-probability sampling."
      ]
    },
    {
      "cell_type": "code",
      "execution_count": null,
      "metadata": {
        "colab": {
          "base_uri": "https://localhost:8080/",
          "height": 36
        },
        "id": "VlaPTDwf1i5D",
        "outputId": "5183115c-e1d0-48eb-bcf1-31023189944c"
      },
      "outputs": [
        {
          "data": {
            "application/vnd.google.colaboratory.intrinsic+json": {
              "type": "string"
            },
            "text/plain": [
              "'\\nIn statistics, sampling methods are broadly categorized into probability sampling and non-probability sampling.\\n'"
            ]
          },
          "execution_count": 7,
          "metadata": {},
          "output_type": "execute_result"
        }
      ],
      "source": [
        "#What are the different types of sampling methods?\n",
        "'''\n",
        "In statistics, sampling methods are broadly categorized into probability sampling and non-probability sampling.\n",
        "'''"
      ]
    },
    {
      "cell_type": "markdown",
      "metadata": {
        "id": "0vI3Bd3314W1"
      },
      "source": [
        "7.What is the difference between random and non-random sampling?\n",
        "    - In random sampling, each member of the population has an equal chance of being selected, aiming for a representative sample. Non-random sampling, on the other hand, involves selecting samples based on convenience, judgment, or other criteria, which may not be representative of the entire population."
      ]
    },
    {
      "cell_type": "code",
      "execution_count": null,
      "metadata": {
        "colab": {
          "base_uri": "https://localhost:8080/",
          "height": 72
        },
        "id": "bNfuCOt913oi",
        "outputId": "c8f15b53-7b82-4d9e-aef5-32285769aa2d"
      },
      "outputs": [
        {
          "data": {
            "application/vnd.google.colaboratory.intrinsic+json": {
              "type": "string"
            },
            "text/plain": [
              "'\\nIn random sampling, each member of the population has an equal chance of being selected, aiming for a representative sample. Non-random sampling, on the other hand, involves selecting samples based on convenience, judgment, or other criteria, which may not be representative of the entire population.\\n'"
            ]
          },
          "execution_count": 8,
          "metadata": {},
          "output_type": "execute_result"
        }
      ],
      "source": [
        "#What is the difference between random and non-random sampling?\n",
        "'''\n",
        "In random sampling, each member of the population has an equal chance of being selected, aiming for a representative sample. Non-random sampling, on the other hand, involves selecting samples based on convenience, judgment, or other criteria, which may not be representative of the entire population.\n",
        "'''"
      ]
    },
    {
      "cell_type": "markdown",
      "metadata": {
        "id": "lFaqRAva2CkN"
      },
      "source": [
        "8.Define and give examples of qualitative and quantitative data.\n",
        "    - Qualitative data examples include survey responses that allow for open-ended answers, transcripts from interviews, and notes taken from observations. Quantitative data examples consist of numerical survey responses, test scores, and data related to website traffic."
      ]
    },
    {
      "cell_type": "code",
      "execution_count": null,
      "metadata": {
        "colab": {
          "base_uri": "https://localhost:8080/",
          "height": 72
        },
        "id": "Y_s76g672ALa",
        "outputId": "04af9ffd-529c-476a-a736-908f2f53bb90"
      },
      "outputs": [
        {
          "data": {
            "application/vnd.google.colaboratory.intrinsic+json": {
              "type": "string"
            },
            "text/plain": [
              "'\\nQualitative data examples include survey responses that allow for open-ended answers, transcripts from interviews, and notes taken from observations. Quantitative data examples consist of numerical survey responses, test scores, and data related to website traffic.\\n'"
            ]
          },
          "execution_count": 9,
          "metadata": {},
          "output_type": "execute_result"
        }
      ],
      "source": [
        "#Define and give examples of qualitative and quantitative data.\n",
        "'''\n",
        "Qualitative data examples include survey responses that allow for open-ended answers, transcripts from interviews, and notes taken from observations. Quantitative data examples consist of numerical survey responses, test scores, and data related to website traffic.\n",
        "'''"
      ]
    },
    {
      "cell_type": "markdown",
      "metadata": {
        "id": "R1ibgyoe2O_T"
      },
      "source": [
        "9.What are the different types of data in statistics?\n",
        "   - In statistics, data is broadly categorized into two main types: qualitative (or categorical) and quantitative (or numerical)."
      ]
    },
    {
      "cell_type": "code",
      "execution_count": null,
      "metadata": {
        "colab": {
          "base_uri": "https://localhost:8080/",
          "height": 54
        },
        "id": "PN-gkp3l2MRh",
        "outputId": "cce132b3-7908-4603-8916-c2f5c6a7dae8"
      },
      "outputs": [
        {
          "data": {
            "application/vnd.google.colaboratory.intrinsic+json": {
              "type": "string"
            },
            "text/plain": [
              "'\\nIn statistics, data is broadly categorized into two main types: qualitative (or categorical) and quantitative (or numerical).\\n'"
            ]
          },
          "execution_count": 10,
          "metadata": {},
          "output_type": "execute_result"
        }
      ],
      "source": [
        "#What are the different types of data in statistics?\n",
        "'''\n",
        "In statistics, data is broadly categorized into two main types: qualitative (or categorical) and quantitative (or numerical).\n",
        "'''"
      ]
    },
    {
      "cell_type": "markdown",
      "metadata": {
        "id": "B-0b82Fg2bJr"
      },
      "source": [
        "10.Explain nominal, ordinal, interval, and ratio levels of measurement.\n",
        "   - Nominal: This level simply classifies data into categories, without any inherent order or ranking.\n",
        "   - Ordinal: This level allows for the categorization of data into ordered categories, but the distance or difference between categories is not necessarily equal or measurable.\n",
        "   - Interval: This level provides categories, ranking, and equal intervals between values, meaning the difference between any two points on the scale is consistent.\n",
        "   - Ratio: This level encompasses all properties of the previous levels, plus a true zero point, where zero represents the absence of what is being measured."
      ]
    },
    {
      "cell_type": "code",
      "execution_count": null,
      "metadata": {
        "colab": {
          "base_uri": "https://localhost:8080/",
          "height": 126
        },
        "id": "XqxCn1Rw2ZM4",
        "outputId": "542ac8b8-b996-4109-dbd7-67c37a438305"
      },
      "outputs": [
        {
          "data": {
            "application/vnd.google.colaboratory.intrinsic+json": {
              "type": "string"
            },
            "text/plain": [
              "'\\nNominal: This level simply classifies data into categories, without any inherent order or ranking.\\n   - Ordinal: This level allows for the categorization of data into ordered categories, but the distance or difference between categories is not necessarily equal or measurable.\\n   - Interval: This level provides categories, ranking, and equal intervals between values, meaning the difference between any two points on the scale is consistent.\\n   - Ratio: This level encompasses all properties of the previous levels, plus a true zero point, where zero represents the absence of what is being measured.\\n'"
            ]
          },
          "execution_count": 12,
          "metadata": {},
          "output_type": "execute_result"
        }
      ],
      "source": [
        "#Explain nominal, ordinal, interval, and ratio levels of measurement.\n",
        "'''\n",
        "Nominal: This level simply classifies data into categories, without any inherent order or ranking.\n",
        "   - Ordinal: This level allows for the categorization of data into ordered categories, but the distance or difference between categories is not necessarily equal or measurable.\n",
        "   - Interval: This level provides categories, ranking, and equal intervals between values, meaning the difference between any two points on the scale is consistent.\n",
        "   - Ratio: This level encompasses all properties of the previous levels, plus a true zero point, where zero represents the absence of what is being measured.\n",
        "'''"
      ]
    },
    {
      "cell_type": "markdown",
      "metadata": {
        "id": "hOohbm1a2kjC"
      },
      "source": [
        "11.What is the measure of central tendency?\n",
        "   - A measure of central tendency (also referred to as measures of centre or central location) is a summary measure that attempts to describe a whole set of data with a single value that represents the middle or centre of its distribution."
      ]
    },
    {
      "cell_type": "code",
      "execution_count": null,
      "metadata": {
        "colab": {
          "base_uri": "https://localhost:8080/",
          "height": 72
        },
        "id": "YBXzzBAL2ioY",
        "outputId": "d9569f22-3f47-4d4d-bd62-79a599edbd73"
      },
      "outputs": [
        {
          "data": {
            "application/vnd.google.colaboratory.intrinsic+json": {
              "type": "string"
            },
            "text/plain": [
              "'\\nA measure of central tendency (also referred to as measures of centre or central location) is a summary measure that attempts to describe a whole set of data with a single value that represents the middle or centre of its distribution.\\n'"
            ]
          },
          "execution_count": 13,
          "metadata": {},
          "output_type": "execute_result"
        }
      ],
      "source": [
        "#What is the measure of central tendency?\n",
        "'''\n",
        "A measure of central tendency (also referred to as measures of centre or central location) is a summary measure that attempts to describe a whole set of data with a single value that represents the middle or centre of its distribution.\n",
        "'''"
      ]
    },
    {
      "cell_type": "markdown",
      "metadata": {
        "id": "Bc2BNhUU3Cn6"
      },
      "source": [
        "12.Define mean, median, and mode.\n",
        "   - In statistics, mean, median, and mode are three different types of averages used to describe the \"center\" or \"typical\" value of a dataset. The mean is the arithmetic average, found by summing all values and dividing by the number of values. The median is the middle value when the data is sorted from least to greatest. The mode is the value that appears most frequently in the dataset."
      ]
    },
    {
      "cell_type": "code",
      "execution_count": null,
      "metadata": {
        "colab": {
          "base_uri": "https://localhost:8080/",
          "height": 90
        },
        "id": "_9yXgEak3BvP",
        "outputId": "c289c79e-b822-4de6-bbb0-b58f64d64803"
      },
      "outputs": [
        {
          "data": {
            "application/vnd.google.colaboratory.intrinsic+json": {
              "type": "string"
            },
            "text/plain": [
              "'\\nIn statistics, mean, median, and mode are three different types of averages used to describe the \"center\" or \"typical\" value of a dataset. The mean is the arithmetic average, found by summing all values and dividing by the number of values. The median is the middle value when the data is sorted from least to greatest. The mode is the value that appears most frequently in the dataset.\\n'"
            ]
          },
          "execution_count": 14,
          "metadata": {},
          "output_type": "execute_result"
        }
      ],
      "source": [
        "#Define mean, median, and mode.\n",
        "'''\n",
        "In statistics, mean, median, and mode are three different types of averages used to describe the \"center\" or \"typical\" value of a dataset. The mean is the arithmetic average, found by summing all values and dividing by the number of values. The median is the middle value when the data is sorted from least to greatest. The mode is the value that appears most frequently in the dataset.\n",
        "'''"
      ]
    },
    {
      "cell_type": "markdown",
      "metadata": {
        "id": "NFQM0rDA3N75"
      },
      "source": [
        "13.What is the significance of the measure of central tendency?\n",
        "   - Measures of central tendency, like mean, median, and mode, are crucial in statistics as they provide a single value that represents the central or typical value of a dataset, offering a concise summary of the data's characteristics."
      ]
    },
    {
      "cell_type": "code",
      "execution_count": null,
      "metadata": {
        "colab": {
          "base_uri": "https://localhost:8080/",
          "height": 54
        },
        "id": "apkOENzx3LoG",
        "outputId": "3fbd8fe9-fbd0-4f7c-f70a-5b94709f3c77"
      },
      "outputs": [
        {
          "data": {
            "application/vnd.google.colaboratory.intrinsic+json": {
              "type": "string"
            },
            "text/plain": [
              "\"\\nMeasures of central tendency, like mean, median, and mode, are crucial in statistics as they provide a single value that represents the central or typical value of a dataset, offering a concise summary of the data's characteristics.\\n\""
            ]
          },
          "execution_count": 15,
          "metadata": {},
          "output_type": "execute_result"
        }
      ],
      "source": [
        "#What is the significance of the measure of central tendency?\n",
        "'''\n",
        "Measures of central tendency, like mean, median, and mode, are crucial in statistics as they provide a single value that represents the central or typical value of a dataset, offering a concise summary of the data's characteristics.\n",
        "'''"
      ]
    },
    {
      "cell_type": "markdown",
      "metadata": {
        "id": "aXWV4iil3br4"
      },
      "source": [
        "14.What is variance, and how is it calculated?\n",
        "   - Variance is a statistical measure that quantifies the spread or dispersion of a set of data points around their mean. It's calculated by finding the average of the squared differences between each data point and the mean."
      ]
    },
    {
      "cell_type": "code",
      "execution_count": null,
      "metadata": {
        "colab": {
          "base_uri": "https://localhost:8080/",
          "height": 54
        },
        "id": "s_t0PuUh3ZxW",
        "outputId": "40671f92-fffb-41ee-8f02-2611965ffe5f"
      },
      "outputs": [
        {
          "data": {
            "application/vnd.google.colaboratory.intrinsic+json": {
              "type": "string"
            },
            "text/plain": [
              "\"\\nVariance is a statistical measure that quantifies the spread or dispersion of a set of data points around their mean. It's calculated by finding the average of the squared differences between each data point and the mean.\\n\""
            ]
          },
          "execution_count": 16,
          "metadata": {},
          "output_type": "execute_result"
        }
      ],
      "source": [
        "#What is variance, and how is it calculated?\n",
        "'''\n",
        "Variance is a statistical measure that quantifies the spread or dispersion of a set of data points around their mean. It's calculated by finding the average of the squared differences between each data point and the mean.\n",
        "'''"
      ]
    },
    {
      "cell_type": "markdown",
      "metadata": {
        "id": "TuE7b54K3n1I"
      },
      "source": [
        "15.What is standard deviation, and why is it important?\n",
        "    - Standard deviation is a statistical measure that indicates the amount of variation or dispersion in a dataset. It quantifies how much individual data points deviate from the mean (average). A high standard deviation means data points are widely spread, while a low standard deviation indicates data points are clustered closely around the mean."
      ]
    },
    {
      "cell_type": "code",
      "execution_count": null,
      "metadata": {
        "colab": {
          "base_uri": "https://localhost:8080/",
          "height": 72
        },
        "id": "VeIju51v3sVg",
        "outputId": "b8c1a398-5011-428b-a993-b77a99d9f66a"
      },
      "outputs": [
        {
          "data": {
            "application/vnd.google.colaboratory.intrinsic+json": {
              "type": "string"
            },
            "text/plain": [
              "'\\nStandard deviation is a statistical measure that indicates the amount of variation or dispersion in a dataset. It quantifies how much individual data points deviate from the mean (average). A high standard deviation means data points are widely spread, while a low standard deviation indicates data points are clustered closely around the mean.\\n'"
            ]
          },
          "execution_count": 17,
          "metadata": {},
          "output_type": "execute_result"
        }
      ],
      "source": [
        "#What is standard deviation, and why is it important?\n",
        "'''\n",
        "Standard deviation is a statistical measure that indicates the amount of variation or dispersion in a dataset. It quantifies how much individual data points deviate from the mean (average). A high standard deviation means data points are widely spread, while a low standard deviation indicates data points are clustered closely around the mean.\n",
        "'''"
      ]
    },
    {
      "cell_type": "markdown",
      "metadata": {
        "id": "m3pRh4rM31Tv"
      },
      "source": [
        "16.Define and explain the term range in statistics.\n",
        "    - Range - Math Definition, How to Find & ExamplesIn statistics, the range is a measure of variability that represents the spread of a dataset. It's calculated by finding the difference between the highest and lowest values in the data set."
      ]
    },
    {
      "cell_type": "code",
      "execution_count": null,
      "metadata": {
        "colab": {
          "base_uri": "https://localhost:8080/",
          "height": 72
        },
        "id": "ffwya7x53022",
        "outputId": "88d4fe58-771a-4c51-f045-9b7085718fb5"
      },
      "outputs": [
        {
          "data": {
            "application/vnd.google.colaboratory.intrinsic+json": {
              "type": "string"
            },
            "text/plain": [
              "\"\\nRange - Math Definition, How to Find & ExamplesIn statistics, the range is a measure of variability that represents the spread of a dataset. It's calculated by finding the difference between the highest and lowest values in the data set.\\n\""
            ]
          },
          "execution_count": 18,
          "metadata": {},
          "output_type": "execute_result"
        }
      ],
      "source": [
        "#Define and explain the term range in statistics.\n",
        "'''\n",
        "Range - Math Definition, How to Find & ExamplesIn statistics, the range is a measure of variability that represents the spread of a dataset. It's calculated by finding the difference between the highest and lowest values in the data set.\n",
        "'''"
      ]
    },
    {
      "cell_type": "markdown",
      "metadata": {
        "id": "Am3JJElE4HpP"
      },
      "source": [
        "17.What is the difference between variance and standard deviation?\n",
        "   - Variance is the average of the squared differences from the mean, while standard deviation is the square root of the variance."
      ]
    },
    {
      "cell_type": "code",
      "execution_count": null,
      "metadata": {
        "colab": {
          "base_uri": "https://localhost:8080/",
          "height": 54
        },
        "id": "dZ8V7CYM4Fvs",
        "outputId": "ebd8f372-a176-480b-e892-edda38dccaf7"
      },
      "outputs": [
        {
          "data": {
            "application/vnd.google.colaboratory.intrinsic+json": {
              "type": "string"
            },
            "text/plain": [
              "'\\nVariance is the average of the squared differences from the mean, while standard deviation is the square root of the variance.\\n'"
            ]
          },
          "execution_count": 19,
          "metadata": {},
          "output_type": "execute_result"
        }
      ],
      "source": [
        "#What is the difference between variance and standard deviation?\n",
        "'''\n",
        "Variance is the average of the squared differences from the mean, while standard deviation is the square root of the variance.\n",
        "'''"
      ]
    },
    {
      "cell_type": "markdown",
      "metadata": {
        "id": "RbkIytcv4TOI"
      },
      "source": [
        "18.What is skewness in a dataset?\n",
        "   - Skewness in data refers to the degree of asymmetry in a probability distribution."
      ]
    },
    {
      "cell_type": "code",
      "execution_count": null,
      "metadata": {
        "colab": {
          "base_uri": "https://localhost:8080/",
          "height": 36
        },
        "id": "0PA0ZPnh4RA7",
        "outputId": "fb69f968-f5b2-47fd-8dbe-4746ef65b994"
      },
      "outputs": [
        {
          "data": {
            "application/vnd.google.colaboratory.intrinsic+json": {
              "type": "string"
            },
            "text/plain": [
              "'\\nSkewness in data refers to the degree of asymmetry in a probability distribution.\\n'"
            ]
          },
          "execution_count": 20,
          "metadata": {},
          "output_type": "execute_result"
        }
      ],
      "source": [
        "#What is skewness in a dataset?\n",
        "'''\n",
        "Skewness in data refers to the degree of asymmetry in a probability distribution.\n",
        "'''"
      ]
    },
    {
      "cell_type": "markdown",
      "metadata": {
        "id": "8JMfBM5R4i1f"
      },
      "source": [
        "19.What does it mean if a dataset is positively or negatively skewed?\n",
        "    -"
      ]
    },
    {
      "cell_type": "code",
      "execution_count": null,
      "metadata": {
        "colab": {
          "background_save": true
        },
        "id": "AbrMuiL94hhK",
        "outputId": "7aee8f53-9511-4c7b-d1a6-76ec43035e6f"
      },
      "outputs": [
        {
          "data": {
            "application/vnd.google.colaboratory.intrinsic+json": {
              "type": "string"
            },
            "text/plain": [
              "'\\nA positively skewed dataset has a longer tail on the right side, meaning it contains more extreme high values and a larger proportion of data points cluster towards the lower values.\\n'"
            ]
          },
          "execution_count": 21,
          "metadata": {},
          "output_type": "execute_result"
        }
      ],
      "source": []
    }
  ],
  "metadata": {
    "colab": {
      "provenance": []
    },
    "kernelspec": {
      "display_name": "Python 3",
      "name": "python3"
    },
    "language_info": {
      "name": "python"
    }
  },
  "nbformat": 4,
  "nbformat_minor": 0
}